{
 "cells": [
  {
   "cell_type": "code",
   "execution_count": 3,
   "id": "0c8383c4-7286-49c0-b437-156a13e02262",
   "metadata": {},
   "outputs": [],
   "source": [
    "import mysql.connector\n",
    "from tabulate import tabulate \n",
    "con = mysql.connector.connect(host = \"localhost\",user = \"root\", password = \"karthik\", database = \"sm\")\n",
    "sm = con.cursor()"
   ]
  },
  {
   "cell_type": "code",
   "execution_count": 5,
   "id": "10db7ecb-7da0-44d0-b5f4-cd9567fd5b94",
   "metadata": {},
   "outputs": [],
   "source": [
    "def customer_signin():               #-----------------customer details---------------------\n",
    "    cus_name = input(\"Enter the customer name\")\n",
    "    cus_city = input(\"Enter the city name\")\n",
    "    cus_state = input(\"Enter the state name\")\n",
    "    qry = \"insert into customer(name,city,state) values (%s,%s,%s)\"\n",
    "    value1 = (cus_name,cus_city,cus_state)\n",
    "    sm.execute(qry,value1)\n",
    "    con.commit()\n",
    "    print(\"Customer data successfully inserted\")\n",
    "    "
   ]
  },
  {
   "cell_type": "code",
   "execution_count": 11,
   "id": "c3cf04b6-4b89-4415-a72a-41211944579d",
   "metadata": {},
   "outputs": [
    {
     "name": "stdin",
     "output_type": "stream",
     "text": [
      "Enter the customer name livin\n",
      "Enter the city name chennai\n",
      "Enter the state name tamilnadu\n"
     ]
    },
    {
     "name": "stdout",
     "output_type": "stream",
     "text": [
      "Customer data successfully inserted\n"
     ]
    }
   ],
   "source": [
    "customer_signin()"
   ]
  },
  {
   "cell_type": "code",
   "execution_count": 13,
   "id": "43090240-f27d-4750-812d-0f953a11dc44",
   "metadata": {},
   "outputs": [
    {
     "name": "stdout",
     "output_type": "stream",
     "text": [
      "    cus_name    cus_city     cus_state\n",
      "--  ----------  -----------  -------------\n",
      " 1  karthik     chennai      tamilnadu\n",
      " 2  gokul       kanchipuram  tamilnadu\n",
      " 3  pavi        vilupuram    tamilnadu\n",
      " 4  maddy       trl          tamilnadu\n",
      " 5  jon         los vegas    united states\n",
      " 6  khabib      daegestan    russia\n",
      " 7\n",
      " 8  livin       chennai      tamilnadu\n"
     ]
    }
   ],
   "source": [
    "def show_cus():\n",
    "    qry = \"select * from customer\"\n",
    "    sm.execute(qry)\n",
    "    data = sm.fetchall()\n",
    "    print(tabulate(data,headers= [\"cus_name\",\"cus_city\",\"cus_state\"]))\n",
    "show_cus()\n"
   ]
  },
  {
   "cell_type": "code",
   "execution_count": 19,
   "id": "a2db086f-a036-4f8b-bac9-30f210a99b32",
   "metadata": {},
   "outputs": [],
   "source": [
    "def stock_entry():                 #-------------product details------------------\n",
    "    product_name  = input(\"Enter the product name\")\n",
    "    qty = int(input(\"Enter the quantity\"))\n",
    "    price_per_qty = int(input(\"Enter the ppq\"))\n",
    "    qry = \"insert into stock(product_name,qty,price_per_qty) values (%s,%s,%s)\"\n",
    "    value2 = (product_name,qty,price_per_qty)\n",
    "    sm.execute(qry,value2)\n",
    "    con.commit()\n",
    "    print(\"stock entry successfully inserted\")\n",
    "    "
   ]
  },
  {
   "cell_type": "code",
   "execution_count": 29,
   "id": "28e182b6-8a26-49ad-9dd9-79491e4211c2",
   "metadata": {},
   "outputs": [
    {
     "name": "stdin",
     "output_type": "stream",
     "text": [
      "Enter the product name charger\n",
      "Enter the quantity 43\n",
      "Enter the ppq 1200\n"
     ]
    },
    {
     "name": "stdout",
     "output_type": "stream",
     "text": [
      "stock entry successfully inserted\n"
     ]
    }
   ],
   "source": [
    "stock_entry()"
   ]
  },
  {
   "cell_type": "code",
   "execution_count": 23,
   "id": "9508b575-ad64-4658-ae8e-33f784f620d2",
   "metadata": {},
   "outputs": [
    {
     "name": "stdout",
     "output_type": "stream",
     "text": [
      "    product_name      qty    price_per_qty\n",
      "--  --------------  -----  ---------------\n",
      " 1  pen                50               10\n",
      " 2  pencil             50                5\n",
      " 3  laptop             40            50000\n",
      " 4  vivo mobiles       40            25000\n",
      " 5  charger            40             1200\n"
     ]
    }
   ],
   "source": [
    "def show_stock():\n",
    "    qry = \"select * from stock\"\n",
    "    sm.execute(qry)\n",
    "    data2 = sm.fetchall()\n",
    "    print(tabulate(data2,headers = [\"product_name\",\"qty\",\"price_per_qty\"]))\n",
    "show_stock()"
   ]
  },
  {
   "cell_type": "code",
   "execution_count": 15,
   "id": "c37e5378-afed-4b05-9cdd-d804040c13c6",
   "metadata": {},
   "outputs": [],
   "source": [
    "def stock_update():                        # --------------stock update----------------\n",
    "    product_id = int(input(\"Enter the product id to change quantity\"))\n",
    "    qty = int(input(\"Enter the quantity number\"))\n",
    "    qry = \"update stock set qty = %s where product_id = %s\"\n",
    "    value3 = (qty,product_id)\n",
    "    sm.execute(qry,value3)\n",
    "    con.commit()\n",
    "    print(\"Stock quantity updated\")"
   ]
  },
  {
   "cell_type": "code",
   "execution_count": 21,
   "id": "c89c4a28-b4a8-4aad-93da-4b544ceb3312",
   "metadata": {},
   "outputs": [
    {
     "name": "stdin",
     "output_type": "stream",
     "text": [
      "Enter the product id to change quantity 3\n",
      "Enter the quantity number 40\n"
     ]
    },
    {
     "name": "stdout",
     "output_type": "stream",
     "text": [
      "Stock quantity updated\n"
     ]
    }
   ],
   "source": [
    "stock_update()"
   ]
  },
  {
   "cell_type": "code",
   "execution_count": 25,
   "id": "3219f3d9-3ee5-4227-a4c4-d7b64b8b3aab",
   "metadata": {},
   "outputs": [
    {
     "data": {
      "text/plain": [
       "[1, 2, 3, 4, 5, 6]"
      ]
     },
     "execution_count": 25,
     "metadata": {},
     "output_type": "execute_result"
    }
   ],
   "source": [
    "def get_customer():\n",
    "    c_id = []\n",
    "    qry = \"select * from customer\"\n",
    "    sm.execute(qry)\n",
    "    data = sm.fetchall()\n",
    "    for i in data:\n",
    "        c_id.append(i[0])\n",
    "    return c_id\n",
    "\n",
    "get_customer()"
   ]
  },
  {
   "cell_type": "code",
   "execution_count": 27,
   "id": "1a3621a8-19b9-44c2-ab5a-fc3b90aef888",
   "metadata": {},
   "outputs": [
    {
     "data": {
      "text/plain": [
       "[1, 2, 3, 4, 5]"
      ]
     },
     "execution_count": 27,
     "metadata": {},
     "output_type": "execute_result"
    }
   ],
   "source": [
    "def get_product():\n",
    "    p_id = []\n",
    "    qry = \"select * from stock\"\n",
    "    sm.execute(qry)\n",
    "    data = sm.fetchall()\n",
    "    for i in data:\n",
    "        p_id.append(i[0])\n",
    "    return p_id\n",
    "get_product()"
   ]
  },
  {
   "cell_type": "code",
   "execution_count": 31,
   "id": "c5747408-fa28-4d5a-8886-3ef2ef1c90cf",
   "metadata": {},
   "outputs": [],
   "source": [
    "def check_quantity():                  #---------------Quantity check--------------------\n",
    "    p_id = int(input(\"Enter the product id:\"))\n",
    "    qry = \"select qty from stock where product_id = %s\"\n",
    "    value3 = (p_id,)\n",
    "    sm.execute(qry,value3)\n",
    "    data = sm.fetchall()\n",
    "    return data[0][0]\n",
    "    "
   ]
  },
  {
   "cell_type": "code",
   "execution_count": 33,
   "id": "9da1bbf0-3ff3-4708-8060-f6e197df08d8",
   "metadata": {},
   "outputs": [
    {
     "name": "stdin",
     "output_type": "stream",
     "text": [
      "Enter the product id: 3\n"
     ]
    },
    {
     "data": {
      "text/plain": [
       "40"
      ]
     },
     "execution_count": 33,
     "metadata": {},
     "output_type": "execute_result"
    }
   ],
   "source": [
    "check_quantity()"
   ]
  },
  {
   "cell_type": "code",
   "execution_count": 35,
   "id": "074d1e56-81de-4276-af6d-2ff03a909a36",
   "metadata": {},
   "outputs": [],
   "source": [
    "def check_product_name():\n",
    "    p_id = int(input(\"Enter the product id to check name:\"))\n",
    "    qry = \"select product_name from stock where product_id = %s\"\n",
    "    value4 = (p_id,)\n",
    "    sm.execute(qry,value4)\n",
    "    data = sm.fetchall()\n",
    "    return data[0][0]"
   ]
  },
  {
   "cell_type": "code",
   "execution_count": 37,
   "id": "882bed31-019f-4ab6-bb58-18a0f6cca5bf",
   "metadata": {},
   "outputs": [
    {
     "name": "stdin",
     "output_type": "stream",
     "text": [
      "Enter the product id to check name: 3\n"
     ]
    },
    {
     "data": {
      "text/plain": [
       "'laptop'"
      ]
     },
     "execution_count": 37,
     "metadata": {},
     "output_type": "execute_result"
    }
   ],
   "source": [
    "check_product_name()"
   ]
  },
  {
   "cell_type": "code",
   "execution_count": 39,
   "id": "589e99c0-2204-4e14-b084-15eb75013861",
   "metadata": {},
   "outputs": [],
   "source": [
    "def new_order():                        #-----------------new order-------------------\n",
    "    cu_id = int(input(\"Enter the customer id:\"))\n",
    "    p_id = int(input(\"Enter the product id:\"))\n",
    "    pr_name = check_product_name() \n",
    "    qty = int(input(\"Enter the quantity:\"))\n",
    "    ppq = int(input(\"Price per quantity\"))\n",
    "    total = qty*ppq\n",
    "    qry = \"insert into orders(cus_id,product_id,product_name,qty,price_per_qty,total) values(%s,%s,%s,%s,%s,%s)\"\n",
    "    value5 = (cu_id,p_id,pr_name,qty,ppq,total)\n",
    "    sm.execute(qry,value5)\n",
    "    con.commit()\n",
    "    print(\"Order placed\")"
   ]
  },
  {
   "cell_type": "code",
   "execution_count": 41,
   "id": "c443f8ff-a17b-4c88-9608-2cee1dcaf02f",
   "metadata": {},
   "outputs": [
    {
     "name": "stdin",
     "output_type": "stream",
     "text": [
      "Enter the customer id: 2\n",
      "Enter the product id: 2\n",
      "Enter the product id to check name: 2\n",
      "Enter the quantity: 10\n",
      "Price per quantity 5\n"
     ]
    },
    {
     "name": "stdout",
     "output_type": "stream",
     "text": [
      "Order placed\n"
     ]
    }
   ],
   "source": [
    "new_order()"
   ]
  },
  {
   "cell_type": "code",
   "execution_count": 43,
   "id": "d0796522-f28b-4481-8129-0ba83ce32083",
   "metadata": {},
   "outputs": [
    {
     "name": "stdout",
     "output_type": "stream",
     "text": [
      "      cus_id    product_id  product_name      qty    price_per_qty    total price\n",
      "--  --------  ------------  --------------  -----  ---------------  -------------\n",
      " 3         1             1  pen                 1                1              1\n",
      " 4         1             4  vivo mobiles       15            25000         375000\n",
      " 5         2             2  laptop              4            25000         100000\n",
      " 6         4             5  charger            10             1200          12000\n",
      " 7         1             2  pencil             30                5            150\n",
      " 9         1             4  vivo mobiles       10            25000         250000\n",
      "10         1             5  charger             3             1200           3600\n",
      "11         2             2  pencil             10                5             50\n"
     ]
    }
   ],
   "source": [
    "def show_order():                           #-----------------show order-------------------\n",
    "    qry = \"select * from orders\"\n",
    "    sm.execute(qry)\n",
    "    data = sm.fetchall()\n",
    "    print(tabulate(data,headers = [\"cus_id\",\"product_id\",\"product_name\",\"qty\",\"price_per_qty\",\"total price\"]))\n",
    "show_order()"
   ]
  },
  {
   "cell_type": "code",
   "execution_count": 45,
   "id": "c279fbec-75b8-4a11-bfe7-6a8dd00c50ff",
   "metadata": {},
   "outputs": [],
   "source": [
    "def get_price():\n",
    "    p_id = int(input(\"Enter the product id:\"))\n",
    "    qry = \"select price_per_qty from orders where cus_id = %s\"\n",
    "    val5 = (p_id,)\n",
    "    sm.execute(qry,val5)\n",
    "    data = sm.fetchall()\n",
    "    print(tabulate(data,headers = [\"price_per_qty\"]))"
   ]
  },
  {
   "cell_type": "code",
   "execution_count": 51,
   "id": "9ea4f446-4e5e-4f38-8f47-76f1b586fe0d",
   "metadata": {},
   "outputs": [
    {
     "name": "stdin",
     "output_type": "stream",
     "text": [
      "Enter the product id: 4\n"
     ]
    },
    {
     "name": "stdout",
     "output_type": "stream",
     "text": [
      "  price_per_qty\n",
      "---------------\n",
      "           1200\n"
     ]
    }
   ],
   "source": [
    "get_price()"
   ]
  },
  {
   "cell_type": "code",
   "execution_count": 53,
   "id": "0f828945-3b56-43c8-9b28-8b1993a44516",
   "metadata": {},
   "outputs": [],
   "source": [
    "def get_order():\n",
    "    o_id=[]\n",
    "    qry=\"select order_id from orders\"\n",
    "    sm.execute(qry)\n",
    "    data=sm.fetchall()\n",
    "    for i in data:\n",
    "        o_id.append(i[0])\n",
    "    return o_id"
   ]
  },
  {
   "cell_type": "code",
   "execution_count": 55,
   "id": "9a137828-6b28-47b2-ac1a-3a341f3316a4",
   "metadata": {},
   "outputs": [
    {
     "data": {
      "text/plain": [
       "[3, 4, 5, 6, 7, 9, 10, 11]"
      ]
     },
     "execution_count": 55,
     "metadata": {},
     "output_type": "execute_result"
    }
   ],
   "source": [
    "get_order()"
   ]
  },
  {
   "cell_type": "code",
   "execution_count": 57,
   "id": "fd4227b9-205b-4f91-ab32-71b8b1af3afe",
   "metadata": {},
   "outputs": [],
   "source": [
    "def cancel_order():\n",
    "    od_id = int(input(\"Enter the order id to cancel the order:\"))\n",
    "    qry = \"delete from orders where order_id = %s\"\n",
    "    val = (od_id,)\n",
    "    sm.execute(qry,val)\n",
    "    sm.fetchall()\n",
    "    print(\"Order succesfully cancelled\")\n",
    "    "
   ]
  },
  {
   "cell_type": "code",
   "execution_count": 85,
   "id": "62d59e4c-e8f0-460f-8122-aff310561e85",
   "metadata": {},
   "outputs": [
    {
     "name": "stdin",
     "output_type": "stream",
     "text": [
      "Enter the order id to cancel the order: 2\n"
     ]
    },
    {
     "name": "stdout",
     "output_type": "stream",
     "text": [
      "Order succesfully cancelled\n"
     ]
    }
   ],
   "source": [
    "cancel_order()"
   ]
  },
  {
   "cell_type": "code",
   "execution_count": 83,
   "id": "93a73bfa-d8e2-40c3-86fa-d16df73a8046",
   "metadata": {},
   "outputs": [],
   "source": [
    "def e_com():\n",
    "    customer_id = int(input(\"Enter the customer id:\"))\n",
    "    c_id = get_customer()\n",
    "    if customer_id in c_id:\n",
    "        ch = int(input(\"1.display 2.new order 3.cancel 4.customer details update\"))\n",
    "        if ch == 1:\n",
    "            show_stock()\n",
    "        elif ch == 2:\n",
    "            show_stock()\n",
    "            product_id = int(input(\"kindly enter the product id:\"))\n",
    "            quantity = int(input(\"Enter the quantity:\"))\n",
    "            print(\"check_quantity\")\n",
    "            current_qty = check_quantity()\n",
    "            print(\"Total available quantity is:\",current_qty)\n",
    "            if current_qty == 0:\n",
    "                print(\"Stock is not available\")\n",
    "            elif current_qty >= quantity:\n",
    "                new_order()\n",
    "                new_qty = current_qty - quantity\n",
    "                print(\"now total quantity is:\",new_qty)\n",
    "                print(\"Right now update this below\")\n",
    "                stock_update()\n",
    "            else:\n",
    "                print(\"These are available stock \",check_quantity())\n",
    "                ch = input(\"Type yes to continue no to exit\").lower()\n",
    "                if ch == \"yes\":\n",
    "                    price = get_price()\n",
    "                    new_order()\n",
    "                    new_qty = current_qty - quantity\n",
    "                    stock_update()\n",
    "                else:\n",
    "                    print(\"Thank you....\")\n",
    "        elif ch == 3:\n",
    "            show_order()\n",
    "            order_id = int(input(\"Enter the order id:\"))\n",
    "            or_id = get_order()\n",
    "            if order_id in or_id:\n",
    "                p_id = int(input(\"Enter the product id:\"))\n",
    "                current_qty = check_quantity()\n",
    "                cancel_qty = get_order()\n",
    "                cancel_qty = sum(cancel_qty)\n",
    "                new_qty = current_qty + cancel_qty\n",
    "                cancel_order()\n",
    "                stock_update()\n",
    "                print(\"cancel is finished\")\n",
    "        elif ch == 4:\n",
    "            cus_id = int(input(\"Enter the customer id\"))\n",
    "            qry = \"select * from customer where cus_id = %s\"\n",
    "            val = (cus_id,)\n",
    "            sm.execute(qry,val)\n",
    "            data = sm.fetchall()\n",
    "            print(tabulate(data,headers = [\"cus_id\",\"name\",\"city\",\"state\"]))\n",
    "            ch = int(input(\"1.name 2.city 3.state\"))\n",
    "            if ch == 1:\n",
    "                new_name = input(\"Enter the new name\")\n",
    "                qry = \"update customer set name  = %s where cus_id = %s\"\n",
    "                values = (new_name,cus_id)\n",
    "                sm.execute(qry,values)\n",
    "                con.commit()\n",
    "                print(\"Name updated succesfully\")\n",
    "            elif ch == 2:\n",
    "                new_city = input(\"Enter the city name \")\n",
    "                qry = \"update customer set city  = %s where cus_id = %s\"\n",
    "                values = (new_city,cus_id)\n",
    "                sm.execute(qry,values)\n",
    "                con.commit()\n",
    "                print(\"City updated succesfully\")\n",
    "            elif ch == 3:\n",
    "                new_state = input(\"Enter the state name \")\n",
    "                qry = \"update customer set state  = %s where cus_id = %s\"\n",
    "                values = (new_state,cus_id)\n",
    "                sm.execute(qry,values)\n",
    "                con.commit()\n",
    "                print(\"State updated succesfully\")\n",
    "    else:\n",
    "        print(\"kindly check your customer id..There is no customer available in this id\")"
   ]
  },
  {
   "cell_type": "code",
   "execution_count": 85,
   "id": "791c910d-82a5-4c5d-b102-f291cade254b",
   "metadata": {},
   "outputs": [
    {
     "name": "stdin",
     "output_type": "stream",
     "text": [
      "Enter the customer id: 45\n"
     ]
    },
    {
     "name": "stdout",
     "output_type": "stream",
     "text": [
      "kindly check your customer id..There is no customer available in this id\n"
     ]
    }
   ],
   "source": [
    "e_com()"
   ]
  },
  {
   "cell_type": "code",
   "execution_count": 272,
   "id": "dd975937-6fb2-45fd-9745-fa0f96d5246f",
   "metadata": {},
   "outputs": [
    {
     "name": "stdout",
     "output_type": "stream",
     "text": [
      "    cus_name    cus_city     cus_state\n",
      "--  ----------  -----------  -------------\n",
      " 1  karthik     chennai      tamilnadu\n",
      " 2  gokul       kanchipuram  tamilnadu\n",
      " 3  pavi        vilupuram    tamilnadu\n",
      " 4  maddy       trl          tamilnadu\n",
      " 5  jon         los vegas    united states\n"
     ]
    }
   ],
   "source": [
    "show_cus()"
   ]
  },
  {
   "cell_type": "code",
   "execution_count": 274,
   "id": "385eb248-e330-4375-a531-c0d3020922c7",
   "metadata": {},
   "outputs": [
    {
     "name": "stdout",
     "output_type": "stream",
     "text": [
      "      cus_id    product_id  product_name      qty    price_per_qty    total price\n",
      "--  --------  ------------  --------------  -----  ---------------  -------------\n",
      " 3         1             1  pen                 1                1              1\n",
      " 4         1             4  vivo mobiles       15            25000         375000\n",
      " 5         2             2  laptop              4            25000         100000\n",
      " 6         4             5  charger            10             1200          12000\n",
      " 7         1             2  pencil             30                5            150\n",
      " 9         1             4  vivo mobiles       10            25000         250000\n",
      "10         1             5  charger             3             1200           3600\n"
     ]
    }
   ],
   "source": [
    "show_order()"
   ]
  },
  {
   "cell_type": "code",
   "execution_count": 276,
   "id": "40e4f28a-0a27-4838-9956-5a86997454c9",
   "metadata": {},
   "outputs": [
    {
     "name": "stdout",
     "output_type": "stream",
     "text": [
      "    product_name      qty    price_per_qty\n",
      "--  --------------  -----  ---------------\n",
      " 1  pen                20               10\n",
      " 2  pencil             30                5\n",
      " 3  laptop             35            50000\n",
      " 4  vivo mobiles       40            25000\n",
      " 5  charger            40             1200\n"
     ]
    }
   ],
   "source": [
    "show_stock()"
   ]
  },
  {
   "cell_type": "code",
   "execution_count": 65,
   "id": "b3e0e3df-e83c-4971-ba7b-da4a5aca9bbf",
   "metadata": {},
   "outputs": [],
   "source": [
    "def select_orders():\n",
    "    qry=\"select*from orders\"\n",
    "    sm.execute(qry)\n",
    "    dta=sm.fetchall()\n",
    "    print(tabulate(dta,headers=[\"order_id\",\"customer_id\",\"product_id\",\"product_name\",\"quantity\",\"price_per_quantity\"]))"
   ]
  },
  {
   "cell_type": "code",
   "execution_count": 67,
   "id": "09d3f121-1800-4cd8-b2ac-ed6e8bf8a152",
   "metadata": {},
   "outputs": [
    {
     "name": "stdout",
     "output_type": "stream",
     "text": [
      "      order_id    customer_id  product_id      product_name    quantity    price_per_quantity\n",
      "--  ----------  -------------  ------------  --------------  ----------  --------------------\n",
      " 3           1              1  pen                        1           1                     1\n",
      " 4           1              4  vivo mobiles              15       25000                375000\n",
      " 5           2              2  laptop                     4       25000                100000\n",
      " 6           4              5  charger                   10        1200                 12000\n",
      " 7           1              2  pencil                    30           5                   150\n",
      " 9           1              4  vivo mobiles              10       25000                250000\n",
      "10           1              5  charger                    3        1200                  3600\n",
      "11           2              2  pencil                    10           5                    50\n",
      "12           1              5  charger                   10        1200                 12000\n"
     ]
    }
   ],
   "source": [
    "select_orders()"
   ]
  },
  {
   "cell_type": "code",
   "execution_count": null,
   "id": "c528e77f-c5ae-41f1-b287-3437c665e06e",
   "metadata": {},
   "outputs": [],
   "source": []
  }
 ],
 "metadata": {
  "kernelspec": {
   "display_name": "Python 3 (ipykernel)",
   "language": "python",
   "name": "python3"
  },
  "language_info": {
   "codemirror_mode": {
    "name": "ipython",
    "version": 3
   },
   "file_extension": ".py",
   "mimetype": "text/x-python",
   "name": "python",
   "nbconvert_exporter": "python",
   "pygments_lexer": "ipython3",
   "version": "3.12.4"
  }
 },
 "nbformat": 4,
 "nbformat_minor": 5
}
